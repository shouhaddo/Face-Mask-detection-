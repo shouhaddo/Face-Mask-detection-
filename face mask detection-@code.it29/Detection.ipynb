{
 "cells": [
  {
   "cell_type": "markdown",
   "metadata": {},
   "source": [
    "___\n",
    "\n",
    "<a href='https://www.instagram.com/code.it29/'><img src='code.it29.jpeg'/></a>\n",
    "___\n",
    "<center><em>Content Copyright by @code.it29 (Shouhaddo Paul)</em></center>"
   ]
  },
  {
   "cell_type": "code",
   "execution_count": 1,
   "metadata": {},
   "outputs": [],
   "source": [
    "from tensorflow.keras.preprocessing.image import img_to_array\n",
    "from tensorflow.keras.models import load_model\n",
    "import numpy as np\n",
    "import cv2\n",
    "import cvlib as cv"
   ]
  },
  {
   "cell_type": "code",
   "execution_count": 2,
   "metadata": {},
   "outputs": [],
   "source": [
    "model = load_model('mask_detection.model')"
   ]
  },
  {
   "cell_type": "code",
   "execution_count": 3,
   "metadata": {},
   "outputs": [],
   "source": [
    "webcam = cv2.VideoCapture(0)    \n",
    "classes = ['With Mask','Without Mask']"
   ]
  },
  {
   "cell_type": "code",
   "execution_count": 5,
   "metadata": {},
   "outputs": [],
   "source": [
    "while webcam.isOpened():\n",
    "    status, frame = webcam.read()\n",
    "    face, confidence = cv.detect_face(frame)\n",
    "    for idx, f in enumerate(face):      \n",
    "        (startX, startY) = f[0], f[1]\n",
    "        (endX, endY) = f[2], f[3]\n",
    "        face_crop = np.copy(frame[startY:endY,startX:endX])\n",
    "        if (face_crop.shape[0]) < 10 or (face_crop.shape[1]) < 10:\n",
    "            continue\n",
    "        face_crop = cv2.resize(face_crop, (224,224))\n",
    "        face_crop = face_crop.astype(\"float\") / 255.0\n",
    "        face_crop = img_to_array(face_crop)\n",
    "        face_crop = np.expand_dims(face_crop, axis=0)\n",
    "        conf = model.predict(face_crop)[0] \n",
    "        idx = np.argmax(conf)\n",
    "        if idx == 0 :\n",
    "            label = classes[idx]\n",
    "            label = \"{}: {:.2f}%\".format(label, conf[idx] * 100)\n",
    "            Y = startY - 10 if startY - 10 > 10 else startY + 10\n",
    "            cv2.rectangle(frame, (startX,startY), (endX,endY), (0,255,0), 2)\n",
    "            cv2.putText(frame, label, (startX, Y),  cv2.FONT_HERSHEY_SIMPLEX,\n",
    "                        0.7, (0, 255, 0), 2)\n",
    "        else:\n",
    "            label = classes[idx]\n",
    "            label = \"{}: {:.2f}%\".format(label, conf[idx] * 100)\n",
    "            Y = startY - 10 if startY - 10 > 10 else startY + 10\n",
    "            cv2.rectangle(frame, (startX,startY), (endX,endY), (0,0,255), 2)\n",
    "            cv2.putText(frame, label, (startX, Y),  cv2.FONT_HERSHEY_SIMPLEX,\n",
    "                        0.7, (0, 0,255), 2)\n",
    "    cv2.imshow(\"Face Mask Detection\", frame)\n",
    "    if cv2.waitKey(1) & 0xFF == ord('q'):\n",
    "        break\n",
    "\n",
    "webcam.release()\n",
    "cv2.destroyAllWindows()"
   ]
  },
  {
   "cell_type": "markdown",
   "metadata": {},
   "source": [
    "___\n",
    "\n",
    "<a href='https://www.instagram.com/code.it29/'><img src='code.it29.jpeg'/></a>\n",
    "___\n",
    "<center><em>Content Copyright by @code.it29 (Shouhaddo Paul)</em></center>"
   ]
  }
 ],
 "metadata": {
  "kernelspec": {
   "display_name": "Python 3",
   "language": "python",
   "name": "python3"
  },
  "language_info": {
   "codemirror_mode": {
    "name": "ipython",
    "version": 3
   },
   "file_extension": ".py",
   "mimetype": "text/x-python",
   "name": "python",
   "nbconvert_exporter": "python",
   "pygments_lexer": "ipython3",
   "version": "3.7.4"
  }
 },
 "nbformat": 4,
 "nbformat_minor": 2
}
